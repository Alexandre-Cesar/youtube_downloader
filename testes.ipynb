{
 "cells": [
  {
   "cell_type": "code",
   "execution_count": 1,
   "metadata": {},
   "outputs": [],
   "source": [
    "import os\n",
    "from pathlib import Path"
   ]
  },
  {
   "cell_type": "code",
   "execution_count": 8,
   "metadata": {},
   "outputs": [],
   "source": [
    "import subprocess\n",
    "\n",
    "def baixar_audio(url):\n",
    "    diretorio_saida='/temp_'\n",
    "    \n",
    "    comando = f\"yt-dlp --extract-audio --audio-format mp3 -o {diretorio_saida}/%(title)s.%(ext)s {url}\"\n",
    "    subprocess.run(comando, shell=True, capture_output=True, text=True)\n",
    "    \n"
   ]
  },
  {
   "cell_type": "code",
   "execution_count": 6,
   "metadata": {},
   "outputs": [],
   "source": [
    "baixar_audio('https://www.youtube.com/watch?v=TnaCX-djU6Q')"
   ]
  },
  {
   "cell_type": "code",
   "execution_count": 3,
   "metadata": {},
   "outputs": [],
   "source": [
    "def deleteTempFiles():\n",
    "    current_dir = os.getcwd()\n",
    "    temp_dir = f'{current_dir}\\\\temp_'\n",
    "\n",
    "    for p, _, files in os.walk(os.path.abspath(temp_dir)):\n",
    "            for file in files:\n",
    "                dir = f\"{temp_dir}\\\\{file}\"\n",
    "                os.remove(dir)"
   ]
  },
  {
   "cell_type": "code",
   "execution_count": 6,
   "metadata": {},
   "outputs": [],
   "source": [
    "import subprocess\n",
    "\n",
    "def converter_webm_para_mp3(output_file):\n",
    "    current_dir = os.getcwd()\n",
    "    temp_dir = f'{current_dir}\\\\temp_'\n",
    "    print(temp_dir)\n",
    "\n",
    "    command = f'C:\\\\ffmpeg\\\\ffmpeg -i \"{temp_dir}\" \"{output_file}\"'\n",
    "    print(command)\n",
    "    resultado =  subprocess.run(command, shell=True, capture_output=True, text=True)\n",
    "\n",
    "    if resultado.returncode == 0:\n",
    "        print(\"Download concluído com sucesso!\")\n",
    "    else:\n",
    "        print(\"Erro ao baixar o arquivo:\")\n",
    "        print(resultado.stderr)"
   ]
  },
  {
   "cell_type": "code",
   "execution_count": 9,
   "metadata": {},
   "outputs": [
    {
     "name": "stdout",
     "output_type": "stream",
     "text": [
      "Link enviado: https://www.youtube.com/watch?v=WTaIZ7_3d8Y\n"
     ]
    }
   ],
   "source": [
    "import tkinter as tk\n",
    "from PIL import Image, ImageTk\n",
    "\n",
    "def enviar_link():\n",
    "    link = entry.get()\n",
    "    # Aqui você colocaria o código para processar o link\n",
    "    print(\"Link enviado:\", link)\n",
    "    baixar_audio(link)\n",
    "\n",
    "    info['text'] = 'Donwload concluido'\n",
    "    \n",
    "\n",
    "\n",
    "root = tk.Tk()\n",
    "root.geometry(\"675x310\")\n",
    "root['bg'] = '#FF3100'\n",
    "icon_path = \"play_button_icon.ico\"\n",
    "\n",
    "icon = Image.open(icon_path)\n",
    "photo = ImageTk.PhotoImage(icon)\n",
    "root.iconphoto(False, photo)\n",
    "\n",
    "root.title(\"Conversor de Link\")\n",
    "\n",
    "label = tk.Label(root, background= \"#FF3100\", text=\"Digite o link:\")\n",
    "label.pack()\n",
    "\n",
    "entry = tk.Entry(root)\n",
    "entry.pack()\n",
    "\n",
    "button = tk.Button(root, text=\"Enviar\", command=enviar_link)\n",
    "info = tk.Label(root, text= '')\n",
    "button.pack()\n",
    "info.pack()\n",
    "\n",
    "root.mainloop()"
   ]
  },
  {
   "cell_type": "code",
   "execution_count": null,
   "metadata": {},
   "outputs": [],
   "source": [
    "#https://www.youtube.com/watch?v=WTaIZ7_3d8Y"
   ]
  },
  {
   "cell_type": "code",
   "execution_count": 4,
   "metadata": {},
   "outputs": [],
   "source": [
    "import subprocess\n",
    "\n",
    "def converter_webm_para_mp3(input_file, output_file):\n",
    "\n",
    "\n",
    "    command = f'C:\\\\ffmpeg\\\\ffmpeg -i \"{input_file}\" \"{output_file}\"'\n",
    "    print(command)\n",
    "    resultado =  subprocess.run(command, shell=True, capture_output=True, text=True)\n",
    "\n",
    "    if resultado.returncode == 0:\n",
    "        print(\"Download concluído com sucesso!\")\n",
    "    else:\n",
    "        print(\"Erro ao baixar o arquivo:\")\n",
    "        print(resultado.stderr)\n"
   ]
  },
  {
   "cell_type": "code",
   "execution_count": 5,
   "metadata": {},
   "outputs": [
    {
     "name": "stdout",
     "output_type": "stream",
     "text": [
      "C:\\ffmpeg\\ffmpeg -i \"C:\\Users\\alexa\\OneDrive\\Documents\\Extract_youtube\\temp_\\Artigo 2 - Redenção.opus\" \"C:\\Users\\alexa\\OneDrive\\Documents\\Extract_youtube\\input\\Artigo 2 - Redenção.opus\"\n",
      "Download concluído com sucesso!\n"
     ]
    }
   ],
   "source": [
    "input_file = 'C:\\\\Users\\\\alexa\\\\OneDrive\\\\Documents\\\\Extract_youtube\\\\temp_\\\\Artigo 2 - Redenção.opus'\n",
    "output_file = 'C:\\\\Users\\\\alexa\\\\OneDrive\\\\Documents\\\\Extract_youtube\\\\input\\\\Artigo 2 - Redenção.opus'\n",
    "converter_webm_para_mp3(input_file, output_file)"
   ]
  }
 ],
 "metadata": {
  "kernelspec": {
   "display_name": "Python 3",
   "language": "python",
   "name": "python3"
  },
  "language_info": {
   "codemirror_mode": {
    "name": "ipython",
    "version": 3
   },
   "file_extension": ".py",
   "mimetype": "text/x-python",
   "name": "python",
   "nbconvert_exporter": "python",
   "pygments_lexer": "ipython3",
   "version": "3.9.13"
  }
 },
 "nbformat": 4,
 "nbformat_minor": 2
}
